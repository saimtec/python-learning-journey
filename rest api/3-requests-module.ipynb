{
 "cells": [
  {
   "cell_type": "markdown",
   "id": "1936099e",
   "metadata": {},
   "source": [
    "### Consuming REST APIs with Python\n",
    "\n",
    "* To make a request to a REST API in Python, most developers use a powerful library called `requests`. \n",
    "* This library handles all the complex parts of sending an HTTP request for you, so you can focus on the data you want to get or send. It's so popular and easy to use that many consider it an essential tool for any Python project.\n",
    "* Before you can use it, you need to install it. Just open your terminal or command prompt and run this command:\n",
    "    `python -m pip install requests`\n",
    "* Once installed, you're ready to start sending requests to any API endpoint!"
   ]
  },
  {
   "cell_type": "markdown",
   "id": "70045d19",
   "metadata": {},
   "source": [
    "### Installing Python Libraries: A Detailed Note\n",
    "\n",
    "  * **Standard Python Scripts (`.py` files):** When you work with a `.py` file, you are writing a script to be executed by the Python interpreter. The `pip` command is a separate application that manages packages, and it is not part of the Python language itself. Therefore, you **must run `pip` from your computer's terminal or command prompt** before running your script.\n",
    "\n",
    "    ```bash\n",
    "    # This command is run in your terminal, not in your Python script.\n",
    "    python -m pip install requests\n",
    "    ```\n",
    "\n",
    "  * **Jupyter Notebooks (`.ipynb` files):** A Jupyter Notebook cell is an interactive environment. To make it more convenient, Jupyter provides a special feature called a **\"shell escape.\"** The `!` character at the beginning of a line tells the notebook to run the rest of the line as a command in the underlying operating system shell (the same environment as your terminal). This allows you to install libraries and run other system commands without ever leaving the notebook interface.\n",
    "\n",
    "    ```python\n",
    "    # This command is run inside a notebook cell.\n",
    "    !pip install requests\n",
    "    ```"
   ]
  },
  {
   "cell_type": "markdown",
   "id": "9610ed85",
   "metadata": {},
   "source": [
    "### `GET` Request\n",
    "\n",
    "* The **`GET`** method is used to **retrieve data** from an API. It's a \"read-only\" action, which means it will never change any data on the server.\n",
    "* For this example, we use **JSONPlaceholder**, a free service that provides fake API endpoints perfect for practicing with.\n",
    "* The code will perform these steps:\n",
    "    * Import the `requests` library.\n",
    "    * Define the URL for a single to-do item.\n",
    "    * Use `requests.get()` to send the request.\n",
    "    * Print the JSON data from the response by calling the `.json()` method.\n",
    "* The response object also provides important information:\n",
    "    * **`response.status_code`** checks if the request was successful (`200` means success).\n",
    "    * **`response.headers`** contains metadata about the response, such as the `Content-Type`."
   ]
  },
  {
   "cell_type": "code",
   "execution_count": 10,
   "id": "9f698e08",
   "metadata": {},
   "outputs": [
    {
     "data": {
      "text/plain": [
       "{'userId': 1, 'id': 1, 'title': 'delectus aut autem', 'completed': False}"
      ]
     },
     "execution_count": 10,
     "metadata": {},
     "output_type": "execute_result"
    }
   ],
   "source": [
    "import requests\n",
    "api_url = \"https://jsonplaceholder.typicode.com/todos/1\"\n",
    "response = requests.get(api_url)\n",
    "response.json()"
   ]
  },
  {
   "cell_type": "code",
   "execution_count": 11,
   "id": "ae3ad0e7",
   "metadata": {},
   "outputs": [
    {
     "name": "stdout",
     "output_type": "stream",
     "text": [
      "API Data:\n",
      "{'userId': 1, 'id': 1, 'title': 'delectus aut autem', 'completed': False}\n",
      "\n",
      "Title: delectus aut autem\n",
      "\n",
      "Status Code: 200\n",
      "Content-Type: application/json; charset=utf-8\n"
     ]
    }
   ],
   "source": [
    "import requests\n",
    "\n",
    "# The API endpoint for a specific to-do item\n",
    "api_url = \"https://jsonplaceholder.typicode.com/todos/1\"\n",
    "\n",
    "try:\n",
    "    # Send a GET request to the API\n",
    "    response = requests.get(api_url)\n",
    "\n",
    "    # Check if the request was successful (status code 200)\n",
    "    response.raise_for_status()\n",
    "\n",
    "    # The response data is a JSON string.\n",
    "    # The .json() method converts it into a Python dictionary.\n",
    "    data = response.json()\n",
    "    print(\"API Data:\")\n",
    "    print(data)\n",
    "\n",
    "    # You can access specific parts of the dictionary\n",
    "    print(\"\\nTitle:\", data.get(\"title\"))\n",
    "\n",
    "    # Print the status code of the response\n",
    "    print(\"\\nStatus Code:\", response.status_code)\n",
    "\n",
    "    # Print a specific header from the response\n",
    "    print(\"Content-Type:\", response.headers.get(\"Content-Type\"))\n",
    "\n",
    "except requests.exceptions.RequestException as e:\n",
    "    # Handle any errors that occur during the request\n",
    "    print(f\"An error occurred: {e}\")\n"
   ]
  },
  {
   "cell_type": "markdown",
   "id": "1344e281",
   "metadata": {},
   "source": [
    "### `POST` Requests\n",
    "\n",
    "* The **`POST`** method is used to **create a new resource** on a server. Unlike `GET`, which only retrieves data, `POST` sends new data from your application to the API.\n",
    "* When you create a new resource (like a to-do item or a user profile), you need to include the data you want to create in the body of your request.\n",
    "* The `requests` library in Python makes this very easy. You can pass a Python dictionary directly to the `json` keyword argument of the `requests.post()` function.\n",
    "* `requests` handles the hard parts for you:\n",
    "    * It automatically converts your Python dictionary into the correct JSON format.\n",
    "    * It sets the necessary HTTP headers to tell the API that you are sending JSON data.\n",
    "* When the request is successful, you'll receive a **`201 Created` status code**, which confirms that the new resource was successfully added to the server. The response will often include the new resource's data, including a unique ID assigned by the server."
   ]
  },
  {
   "cell_type": "code",
   "execution_count": 12,
   "id": "8ccee02a",
   "metadata": {},
   "outputs": [
    {
     "name": "stdout",
     "output_type": "stream",
     "text": [
      "Request successful! New resource created.\n",
      "Status Code: 201\n",
      "New Todo Data:\n",
      "{\n",
      "    \"userId\": 1,\n",
      "    \"title\": \"Learn to use POST requests\",\n",
      "    \"completed\": false,\n",
      "    \"id\": 201\n",
      "}\n"
     ]
    }
   ],
   "source": [
    "import requests\n",
    "import json\n",
    "\n",
    "# Define the API endpoint where we will create a new resource\n",
    "api_url = \"https://jsonplaceholder.typicode.com/todos\"\n",
    "\n",
    "# The new data to be sent to the API, as a Python dictionary.\n",
    "new_todo = {\n",
    "    \"userId\": 1,\n",
    "    \"title\": \"Learn to use POST requests\",\n",
    "    \"completed\": False\n",
    "}\n",
    "\n",
    "try:\n",
    "    # Send a POST request to the API.\n",
    "    # The 'json=new_todo' argument automatically handles\n",
    "    # converting the dictionary to JSON and setting the headers.\n",
    "    response = requests.post(api_url, json=new_todo)\n",
    "\n",
    "    # Raise an exception for bad status codes (4xx or 5xx)\n",
    "    response.raise_for_status()\n",
    "\n",
    "    # The API's response will contain the data for the new resource,\n",
    "    # including an ID assigned by the server.\n",
    "    data = response.json()\n",
    "\n",
    "    print(\"Request successful! New resource created.\")\n",
    "    print(\"Status Code:\", response.status_code)\n",
    "    print(\"New Todo Data:\")\n",
    "    print(json.dumps(data, indent=4))\n",
    "\n",
    "except requests.exceptions.RequestException as e:\n",
    "    # Handle any errors that occur during the request\n",
    "    print(f\"An error occurred: {e}\")"
   ]
  },
  {
   "cell_type": "markdown",
   "id": "3134b797",
   "metadata": {},
   "source": [
    "### `PUT` Requests: Completely Updating Data\n",
    "\n",
    "* The **`PUT`** method is used to **completely update an existing resource**. \n",
    "* When you send a `PUT` request, the data you provide in the request body will **fully replace** the resource on the server. Any fields that you do not include in your request will be removed from the resource on the server.\n",
    "* To use `PUT`, you must specify which resource you want to update by including its ID in the URL. For example, to update to-do item with the ID `10`, your URL would look like this: `.../todos/10`."
   ]
  },
  {
   "cell_type": "code",
   "execution_count": 13,
   "id": "7f65ab82",
   "metadata": {},
   "outputs": [
    {
     "name": "stdout",
     "output_type": "stream",
     "text": [
      "Request successful! Resource updated.\n",
      "Status Code: 200\n",
      "Updated Todo Data:\n",
      "{\n",
      "    \"userId\": 1,\n",
      "    \"id\": 1,\n",
      "    \"title\": \"This is the updated title for the to-do item.\",\n",
      "    \"completed\": true\n",
      "}\n"
     ]
    }
   ],
   "source": [
    "import requests\n",
    "import json\n",
    "\n",
    "# Define the API endpoint for the specific to-do item we want to update.\n",
    "# We are targeting the to-do item with the ID of 1.\n",
    "api_url = \"https://jsonplaceholder.typicode.com/todos/1\"\n",
    "\n",
    "# The new data to send to the API. This will COMPLETELY REPLACE\n",
    "# the existing data for the resource at the specified URL.\n",
    "new_todo_data = {\n",
    "    \"userId\": 1,\n",
    "    \"id\": 1,\n",
    "    \"title\": \"This is the updated title for the to-do item.\",\n",
    "    \"completed\": True\n",
    "}\n",
    "\n",
    "try:\n",
    "    # Send a PUT request with the new data.\n",
    "    # The 'json' argument automatically handles the conversion\n",
    "    # from a Python dictionary to a JSON string.\n",
    "    response = requests.put(api_url, json=new_todo_data)\n",
    "\n",
    "    # Use raise_for_status() to check for HTTP errors (e.g., 404 Not Found)\n",
    "    response.raise_for_status()\n",
    "\n",
    "    # The server responds with the updated resource data.\n",
    "    updated_data = response.json()\n",
    "\n",
    "    print(\"Request successful! Resource updated.\")\n",
    "    print(\"Status Code:\", response.status_code)\n",
    "    print(\"Updated Todo Data:\")\n",
    "    print(json.dumps(updated_data, indent=4))\n",
    "\n",
    "except requests.exceptions.RequestException as e:\n",
    "    # Handle any errors that occur during the request\n",
    "    print(f\"An error occurred: {e}\")"
   ]
  },
  {
   "cell_type": "markdown",
   "id": "da84628c",
   "metadata": {},
   "source": [
    "### `PATCH` Requests: Partially Updating Data\n",
    "\n",
    "* The **`PATCH`** method is used to **partially update** a resource on the server. \n",
    "* It's different from `PUT`, which completely replaces an existing resource. Think of it like this: **`PUT`** is for replacing an entire document, while **`PATCH`** is for editing just a few words or a single sentence in that document.\n",
    "* With `PATCH`, you only send the data for the fields you want to change. The rest of the resource's data remains untouched.\n",
    "* To use it, you must still include the resource's ID in the URL so the API knows exactly which item to update."
   ]
  },
  {
   "cell_type": "code",
   "execution_count": 14,
   "id": "f690d909",
   "metadata": {},
   "outputs": [
    {
     "name": "stdout",
     "output_type": "stream",
     "text": [
      "Request successful! Resource partially updated.\n",
      "Status Code: 200\n",
      "Updated Todo Data (notice only the title has changed):\n",
      "{\n",
      "    \"userId\": 1,\n",
      "    \"id\": 1,\n",
      "    \"title\": \"This is a new title from a PATCH request.\",\n",
      "    \"completed\": false\n",
      "}\n"
     ]
    }
   ],
   "source": [
    "import requests\n",
    "import json\n",
    "\n",
    "# Define the URL for the specific to-do item we want to update.\n",
    "# We are targeting the to-do item with the ID of 1.\n",
    "api_url = \"https://jsonplaceholder.typicode.com/todos/1\"\n",
    "\n",
    "# The data we want to send. We are only including the 'title'\n",
    "# field because we only want to change that part of the resource.\n",
    "patch_data = {\n",
    "    \"title\": \"This is a new title from a PATCH request.\"\n",
    "}\n",
    "\n",
    "try:\n",
    "    # Send a PATCH request with the partial data.\n",
    "    # The 'json' argument automatically converts the dictionary to a JSON string.\n",
    "    response = requests.patch(api_url, json=patch_data)\n",
    "\n",
    "    # Raise an exception for bad status codes (4xx or 5xx)\n",
    "    response.raise_for_status()\n",
    "\n",
    "    # The server responds with the updated resource data.\n",
    "    updated_data = response.json()\n",
    "\n",
    "    print(\"Request successful! Resource partially updated.\")\n",
    "    print(\"Status Code:\", response.status_code)\n",
    "    print(\"Updated Todo Data (notice only the title has changed):\")\n",
    "    print(json.dumps(updated_data, indent=4))\n",
    "\n",
    "except requests.exceptions.RequestException as e:\n",
    "    # Handle any errors that occur during the request\n",
    "    print(f\"An error occurred: {e}\")\n"
   ]
  },
  {
   "cell_type": "markdown",
   "id": "0298b965",
   "metadata": {},
   "source": [
    "### `DELETE` Request\n",
    "\n",
    "* The **`DELETE`** method is used to **remove an existing resource** from a server. It is the \"D\" in the common CRUD (Create, Read, Update, Delete) operations. \n",
    "* A `DELETE` request is typically sent to a specific API endpoint that includes the unique identifier (ID) of the resource you want to remove.\n",
    "* When you send a `DELETE` request, the server attempts to find and permanently delete the specified resource.\n",
    "* Upon a successful deletion, the API usually returns a status code of **`204 No Content`** or **`200 OK`**.\n",
    "    * **`204 No Content`** is very common because the server has successfully deleted the item and has no content to send back in the response body.\n",
    "* You will not use the `json` or `data` arguments with `requests.delete()` because you are not sending any data to the server, only a request to delete a resource."
   ]
  },
  {
   "cell_type": "code",
   "execution_count": 15,
   "id": "3e995b4c",
   "metadata": {},
   "outputs": [
    {
     "name": "stdout",
     "output_type": "stream",
     "text": [
      "Request successful! Resource at https://jsonplaceholder.typicode.com/todos/1 was deleted.\n",
      "Status Code: 200\n"
     ]
    }
   ],
   "source": [
    "import requests\n",
    "\n",
    "# Define the URL for the specific to-do item we want to delete.\n",
    "# We are targeting the to-do item with the ID of 1.\n",
    "api_url = \"https://jsonplaceholder.typicode.com/todos/1\"\n",
    "\n",
    "try:\n",
    "    # Send a DELETE request to the specified API endpoint.\n",
    "    response = requests.delete(api_url)\n",
    "\n",
    "    # Use raise_for_status() to check for HTTP errors.\n",
    "    # A successful DELETE often returns a 204 or 200 status code.\n",
    "    response.raise_for_status()\n",
    "\n",
    "    # The response body for a successful DELETE request is usually empty.\n",
    "    # Therefore, we just check the status code for success.\n",
    "    print(f\"Request successful! Resource at {api_url} was deleted.\")\n",
    "    print(\"Status Code:\", response.status_code)\n",
    "\n",
    "except requests.exceptions.RequestException as e:\n",
    "    # Handle any errors that occur during the request\n",
    "    print(f\"An error occurred: {e}\")\n"
   ]
  }
 ],
 "metadata": {
  "kernelspec": {
   "display_name": "base",
   "language": "python",
   "name": "python3"
  },
  "language_info": {
   "codemirror_mode": {
    "name": "ipython",
    "version": 3
   },
   "file_extension": ".py",
   "mimetype": "text/x-python",
   "name": "python",
   "nbconvert_exporter": "python",
   "pygments_lexer": "ipython3",
   "version": "3.13.5"
  }
 },
 "nbformat": 4,
 "nbformat_minor": 5
}
