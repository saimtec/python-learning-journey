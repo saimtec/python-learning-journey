{
 "cells": [
  {
   "cell_type": "markdown",
   "id": "3ea6cdf2",
   "metadata": {},
   "source": [
    "### REST Architecture\n",
    "**REST (Representational State Transfer)** is a software architectural style that defines a pattern for client-server communication over a network. It's a set of guidelines, not a rigid specification, designed to promote performance, scalability, and simplicity. \n",
    "\n",
    "The key architectural constraints of REST are:\n",
    "\n",
    "* **Stateless:** The server does not maintain any session state; each request from the client is independent.\n",
    "* **Client-Server & Layered System:** The client and server are separate, allowing for independent development, and the client can interact with the server through intermediate layers like a load balancer.\n",
    "* **Cacheable:** The data retrieved from the server can be cached by the client to improve performance.\n",
    "* **Uniform Interface:** A consistent interface is provided for accessing resources, simplifying interactions.\n",
    "* **Code on Demand (Optional):** The server can transfer executable code to the client, such as JavaScript."
   ]
  },
  {
   "cell_type": "markdown",
   "id": "cdc8eb44",
   "metadata": {},
   "source": [
    "### REST APIs and Web Services\n",
    "\n",
    "* A **Web Service** is a program that runs on a server and provides information or services to other applications over the internet.\n",
    "* An **API (Application Programming Interface)** acts as a public \"door\" for a web service, providing a set of rules for how other applications can communicate with it. \n",
    "* A **REST API** is an API that follows the specific rules of the REST architectural style. It provides access to data through simple, public web URLs.\n",
    "* **Example:** To get information about a GitHub user, you can send a request to a URL like `https://jsonplaceholder.typicode.com/users`.\n",
    "* To get the data, your application sends an **HTTP request** to the API's URL, and the server sends back a **response**, typically in a data format like JSON."
   ]
  },
  {
   "cell_type": "markdown",
   "id": "fee4cbe3",
   "metadata": {},
   "source": [
    "### HTTP Methods: The API's Verbs\n",
    "\n",
    "* In a REST API, a **resource** is any piece of data that can be accessed or changed, like a user profile, a blog post, or a product.\n",
    "* **HTTP methods** are the \"verbs\" that tell the API what action to perform on a resource.\n",
    "* The most common methods you'll use are:\n",
    "    * **`GET`**: To **retrieve** an existing resource. Think of this as reading data.\n",
    "    * **`POST`**: To **create** a **new** resource.\n",
    "    * **`PUT`**: To **update** an existing resource by replacing it entirely.\n",
    "    * **`PATCH`**: To **partially update** an existing resource (e.g., changing only one field).\n",
    "    * **`DELETE`**: To **delete** a resource."
   ]
  },
  {
   "cell_type": "markdown",
   "id": "a218200e",
   "metadata": {},
   "source": [
    "### HTTP Status Codes: The API's Feedback \n",
    "\n",
    "* When you make a request to an API, the server sends back a **status code**. This is a three-digit number that acts as a signal, telling your application exactly what happened with your request.\n",
    "\n",
    "* Your application can use these codes to decide what to do next, like showing a success message or an error warning.\n",
    "\n",
    "* Status codes are grouped by category:\n",
    "\n",
    "    * **`2xx` (Success)**: Everything worked as expected.\n",
    "        * **`200 OK`**: The request was successful, and the server sent back the data you asked for.\n",
    "        * **`201 Created`**: The request was successful, and a new resource was created on the server.\n",
    "\n",
    "    * **`4xx` (Client Error)**: You made a mistake in your request.\n",
    "        * **`400 Bad Request`**: The server couldn't understand your request because it was malformed.\n",
    "        * **`401 Unauthorized`**: You tried to access something you don't have permission for.\n",
    "        * **`404 Not Found`**: The resource you requested does not exist.\n",
    "\n",
    "    * **`5xx` (Server Error)**: Something went wrong on the server's side.\n",
    "        * **`500 Internal Server Error`**: A general error occurred on the server while processing your request."
   ]
  },
  {
   "cell_type": "markdown",
   "id": "0b9bbcb5",
   "metadata": {},
   "source": [
    "### API Endpoints: The Addresses of the API\n",
    "\n",
    "* An **API Endpoint** is a specific URL that your application uses to access a web service. Think of it as a unique address for a specific resource or action. \n",
    "* A full endpoint URL combines a **Base URL** (like `https://api.example.com`) with a **path** that points to the resource (e.g., `/customers`).\n",
    "* The **HTTP method** you use tells the endpoint what to do. For example, a `GET` request to `/customers` retrieves a list of all customers, while a `POST` request to the same URL creates a new one.\n",
    "* Endpoints often use placeholders like `<customer_id>`. This means you replace the placeholder with the actual ID of the specific resource you want to interact with (e.g., `/customers/123`).\n",
    "* A single API can have many different endpoints to manage all the different types of data it handles, such as customers, products, or orders."
   ]
  }
 ],
 "metadata": {
  "language_info": {
   "name": "python"
  }
 },
 "nbformat": 4,
 "nbformat_minor": 5
}
